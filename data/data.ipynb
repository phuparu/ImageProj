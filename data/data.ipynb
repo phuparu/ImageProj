{
 "cells": [
  {
   "cell_type": "markdown",
   "id": "a5c666cc",
   "metadata": {},
   "source": [
    "## ติดตั้งและนำเข้าแพ็คเกจที่จำเป็น"
   ]
  },
  {
   "cell_type": "code",
   "execution_count": 2,
   "id": "179a3e1b",
   "metadata": {},
   "outputs": [
    {
     "name": "stdout",
     "output_type": "stream",
     "text": [
      "Requirement already satisfied: kaggle in c:\\users\\user\\appdata\\local\\programs\\python\\python310\\lib\\site-packages (1.7.4.2)\n",
      "Requirement already satisfied: tqdm in c:\\users\\user\\appdata\\local\\programs\\python\\python310\\lib\\site-packages (from kaggle) (4.67.1)\n",
      "Requirement already satisfied: requests in c:\\users\\user\\appdata\\local\\programs\\python\\python310\\lib\\site-packages (from kaggle) (2.32.3)\n",
      "Requirement already satisfied: certifi>=14.05.14 in c:\\users\\user\\appdata\\local\\programs\\python\\python310\\lib\\site-packages (from kaggle) (2025.1.31)\n",
      "Requirement already satisfied: idna in c:\\users\\user\\appdata\\local\\programs\\python\\python310\\lib\\site-packages (from kaggle) (3.10)\n",
      "Requirement already satisfied: webencodings in c:\\users\\user\\appdata\\local\\programs\\python\\python310\\lib\\site-packages (from kaggle) (0.5.1)\n",
      "Requirement already satisfied: six>=1.10 in c:\\users\\user\\appdata\\roaming\\python\\python310\\site-packages (from kaggle) (1.16.0)\n",
      "Requirement already satisfied: charset-normalizer in c:\\users\\user\\appdata\\local\\programs\\python\\python310\\lib\\site-packages (from kaggle) (3.4.1)\n",
      "Requirement already satisfied: text-unidecode in c:\\users\\user\\appdata\\local\\programs\\python\\python310\\lib\\site-packages (from kaggle) (1.3)\n",
      "Requirement already satisfied: protobuf in c:\\users\\user\\appdata\\local\\programs\\python\\python310\\lib\\site-packages (from kaggle) (6.30.2)\n",
      "Requirement already satisfied: urllib3>=1.15.1 in c:\\users\\user\\appdata\\local\\programs\\python\\python310\\lib\\site-packages (from kaggle) (2.4.0)\n",
      "Requirement already satisfied: python-dateutil>=2.5.3 in c:\\users\\user\\appdata\\roaming\\python\\python310\\site-packages (from kaggle) (2.8.2)\n",
      "Requirement already satisfied: bleach in c:\\users\\user\\appdata\\local\\programs\\python\\python310\\lib\\site-packages (from kaggle) (6.2.0)\n",
      "Requirement already satisfied: setuptools>=21.0.0 in c:\\users\\user\\appdata\\local\\programs\\python\\python310\\lib\\site-packages (from kaggle) (58.1.0)\n",
      "Requirement already satisfied: python-slugify in c:\\users\\user\\appdata\\local\\programs\\python\\python310\\lib\\site-packages (from kaggle) (8.0.4)\n",
      "Requirement already satisfied: colorama in c:\\users\\user\\appdata\\roaming\\python\\python310\\site-packages (from tqdm->kaggle) (0.4.6)\n",
      "Note: you may need to restart the kernel to use updated packages.\n"
     ]
    },
    {
     "name": "stderr",
     "output_type": "stream",
     "text": [
      "WARNING: You are using pip version 21.2.4; however, version 25.0.1 is available.\n",
      "You should consider upgrading via the 'c:\\Users\\User\\AppData\\Local\\Programs\\Python\\Python310\\python.exe -m pip install --upgrade pip' command.\n"
     ]
    }
   ],
   "source": [
    "%pip install kaggle\n",
    "\n",
    "import os\n",
    "import zipfile\n",
    "import kaggle\n",
    "import shutil\n",
    "import glob\n",
    "import random\n",
    "from pathlib import Path\n"
   ]
  },
  {
   "cell_type": "markdown",
   "id": "471db914",
   "metadata": {},
   "source": [
    "## ระบุและดาวน์โหลด Dataset"
   ]
  },
  {
   "cell_type": "code",
   "execution_count": null,
   "id": "c218c1cb",
   "metadata": {},
   "outputs": [
    {
     "name": "stdout",
     "output_type": "stream",
     "text": [
      "กำลังดาวน์โหลด dataset\n",
      "Dataset URL: https://www.kaggle.com/datasets/kaustubhb999/tomatoleaf\n",
      "ดาวน์โหลดเรียบร้อยแล้ว\n"
     ]
    }
   ],
   "source": [
    "# ตั้งค่า Kaggle API Key\n",
    "# สร้างและดาวน์โหลด API Token ใน Kaggle โดยไปที่ Account > API > Create New API Token\n",
    "# คัดลอกไฟล์ kaggle.json ไปยัง ~/.kaggle\n",
    "\n",
    "kaggle.api.authenticate()\n",
    "\n",
    "dataset_name = 'kaustubhb999/tomatoleaf'\n",
    "\n",
    "print(\"กำลังดาวน์โหลด dataset\")\n",
    "\n",
    "# ดาวน์โหลด dataset\n",
    "kaggle.api.dataset_download_files(dataset_name, path='.', unzip=False)\n",
    "# เลือก unzip = False จะต้องแตกไฟล์ zip เอง \n",
    "# เลือก unzip=True ต้องทำให้ Windows รองรับ path ที่ยาวเกิน 260 ตัวอักษรได้ด้วย\n",
    "print(\"ดาวน์โหลดเรียบร้อยแล้ว\")"
   ]
  },
  {
   "cell_type": "markdown",
   "id": "fd871ccc",
   "metadata": {},
   "source": [
    "# จากนั้นทำ Pre process ใน pre_process.py"
   ]
  }
 ],
 "metadata": {
  "kernelspec": {
   "display_name": "Python 3",
   "language": "python",
   "name": "python3"
  },
  "language_info": {
   "codemirror_mode": {
    "name": "ipython",
    "version": 3
   },
   "file_extension": ".py",
   "mimetype": "text/x-python",
   "name": "python",
   "nbconvert_exporter": "python",
   "pygments_lexer": "ipython3",
   "version": "3.10.1"
  }
 },
 "nbformat": 4,
 "nbformat_minor": 5
}
